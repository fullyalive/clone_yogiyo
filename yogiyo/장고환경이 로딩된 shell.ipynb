{
 "cells": [
  {
   "cell_type": "code",
   "execution_count": 1,
   "metadata": {},
   "outputs": [],
   "source": [
    "from shop.models import Category, Shop, Item"
   ]
  },
  {
   "cell_type": "code",
   "execution_count": 1,
   "metadata": {},
   "outputs": [],
   "source": [
    "카테고리_치킨 = Category.objects.get(name='치킨')"
   ]
  },
  {
   "cell_type": "code",
   "execution_count": 9,
   "metadata": {},
   "outputs": [],
   "source": [
    "import json"
   ]
  },
  {
   "cell_type": "code",
   "execution_count": 10,
   "metadata": {},
   "outputs": [
    {
     "data": {
      "text/plain": [
       "20"
      ]
     },
     "execution_count": 10,
     "metadata": {},
     "output_type": "execute_result"
    }
   ],
   "source": [
    "with open('shop_list.json', 'rt', encoding='utf8') as f:\n",
    "    json_string = f.read()\n",
    "    shop_list = json.loads(json_string)\n",
    "    \n",
    "len(shop_list)"
   ]
  },
  {
   "cell_type": "code",
   "execution_count": 11,
   "metadata": {},
   "outputs": [],
   "source": [
    "obj_list = []\n",
    "for meta in shop_list:\n",
    "    # print('{name} {lat},{lng} {address}'.format(**meta))\n",
    "    name = meta['name']\n",
    "    latlng = '{lat}, {lng}'.format(**meta)\n",
    "    shop = Shop(category=카테고리_치킨, name=name, description='', latlng=latlng, meta=meta)\n",
    "    obj_list.append(shop)"
   ]
  },
  {
   "cell_type": "code",
   "execution_count": 13,
   "metadata": {},
   "outputs": [
    {
     "data": {
      "text/plain": [
       "[<Shop: 맥시칸치킨-연희점>,\n",
       " <Shop: 멕시카나-신촌점>,\n",
       " <Shop: 원할머니보쌈-신촌점>,\n",
       " <Shop: 디디치킨-연세대점>,\n",
       " <Shop: 냉면앤고기어때>,\n",
       " <Shop: 가화만사성24시>,\n",
       " <Shop: 네네치킨-이대역점>,\n",
       " <Shop: 공룡치킨-신촌점>,\n",
       " <Shop: 네네치킨-연희점>,\n",
       " <Shop: 혼밥혼술-신촌점>,\n",
       " <Shop: 범벅치킨-신촌점>,\n",
       " <Shop: 홍푸드스테이크시리즈>,\n",
       " <Shop: 네네치킨-북가좌2점>,\n",
       " <Shop: 유자유김치떡볶이-신촌점>,\n",
       " <Shop: 닭꾸버-서울1호신촌점>,\n",
       " <Shop: 명품임실치즈피자-신촌점>,\n",
       " <Shop: 노랑통닭-명지대점>,\n",
       " <Shop: 지브로통삼겹살전문점>,\n",
       " <Shop: 굽네치킨-서대문연희점>,\n",
       " <Shop: 직화신불닭-강북>]"
      ]
     },
     "execution_count": 13,
     "metadata": {},
     "output_type": "execute_result"
    }
   ],
   "source": [
    "Shop.objects.bulk_create(obj_list)"
   ]
  },
  {
   "cell_type": "code",
   "execution_count": 14,
   "metadata": {},
   "outputs": [],
   "source": [
    "from urllib.parse import quote"
   ]
  },
  {
   "cell_type": "code",
   "execution_count": 15,
   "metadata": {},
   "outputs": [
    {
     "data": {
      "text/plain": [
       "'%EC%84%9C%EC%9A%B8%20%EA%B4%91%EC%A7%84%EA%B5%AC%20%EA%B5%B0%EC%9E%90%EB%8F%99%20360-23'"
      ]
     },
     "execution_count": 15,
     "metadata": {},
     "output_type": "execute_result"
    }
   ],
   "source": [
    "quote('서울 광진구 군자동 360-23')"
   ]
  },
  {
   "cell_type": "code",
   "execution_count": null,
   "metadata": {},
   "outputs": [],
   "source": []
  }
 ],
 "metadata": {
  "kernelspec": {
   "display_name": "Django Shell-Plus",
   "language": "python",
   "name": "django_extensions"
  },
  "language_info": {
   "codemirror_mode": {
    "name": "ipython",
    "version": 3
   },
   "file_extension": ".py",
   "mimetype": "text/x-python",
   "name": "python",
   "nbconvert_exporter": "python",
   "pygments_lexer": "ipython3",
   "version": "3.6.3"
  }
 },
 "nbformat": 4,
 "nbformat_minor": 2
}
